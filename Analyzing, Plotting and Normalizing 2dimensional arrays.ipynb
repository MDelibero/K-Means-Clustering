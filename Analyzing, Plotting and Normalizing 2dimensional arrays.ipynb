{
 "cells": [
  {
   "cell_type": "code",
   "execution_count": 5,
   "metadata": {},
   "outputs": [],
   "source": [
    "import numpy as np\n",
    "\n",
    "xs = [10, 100, 25, 67, 74]\n",
    "ys = [125, 26, 66, 1, 70]\n",
    "\n",
    "xys = [[10,125],[100,26],[25,66],[67,1],[74,70]]\n",
    "xys = np.array(xys)"
   ]
  },
  {
   "cell_type": "code",
   "execution_count": 12,
   "metadata": {},
   "outputs": [
    {
     "data": {
      "text/plain": [
       "<matplotlib.patches.Ellipse at 0x11d026b50>"
      ]
     },
     "execution_count": 12,
     "metadata": {},
     "output_type": "execute_result"
    },
    {
     "data": {
      "image/png": "[encoded data removed]",
      "text/plain": [
       "<Figure size 432x288 with 1 Axes>"
      ]
     },
     "metadata": {
      "needs_background": "light"
     },
     "output_type": "display_data"
    }
   ],
   "source": [
    "import matplotlib.pyplot as plt\n",
    "import matplotlib.patches as patches\n",
    "\n",
    "mean = np.mean(xys, 0)\n",
    "std_dev = np.std(xys, 0)\n",
    "\n",
    "ellipse = patches.Ellipse([mean[0],mean[1]], std_dev[0]*2,std_dev[1]*2, alpha = 0.25 )\n",
    "\n",
    "fig,graph = plt.subplots()\n",
    "\n",
    "graph.scatter(xys[:,0],xys[:,1])\n",
    "graph.scatter(mean[0],mean[1])\n",
    "graph.add_patch(ellipse)"
   ]
  },
  {
   "cell_type": "code",
   "execution_count": 17,
   "metadata": {},
   "outputs": [
    {
     "data": {
      "text/plain": [
       "[81.15294202923269,\n",
       " 54.823352688430134,\n",
       " 31.34645115479582,\n",
       " 57.81695253124294,\n",
       " 22.52110121641479]"
      ]
     },
     "execution_count": 17,
     "metadata": {},
     "output_type": "execute_result"
    }
   ],
   "source": [
    "#euclidean distance from mean\n",
    "dists = [np.linalg.norm(xy-mean) for xy in xys] \n",
    "dists"
   ]
  },
  {
   "cell_type": "code",
   "execution_count": 24,
   "metadata": {},
   "outputs": [
    {
     "name": "stdout",
     "output_type": "stream",
     "text": [
      "[[0.         1.        ]\n",
      " [1.         0.2016129 ]\n",
      " [0.16666667 0.52419355]\n",
      " [0.63333333 0.        ]\n",
      " [0.71111111 0.55645161]]\n"
     ]
    }
   ],
   "source": [
    "##normalization\n",
    "min_xys = np.min(xys,0)\n",
    "max_xys = np.max(xys,0)\n",
    "\n",
    "normed_x = (xys - min_xys)/(max_xys - min_xys)\n",
    "print(normed_x)"
   ]
  },
  {
   "cell_type": "code",
   "execution_count": 25,
   "metadata": {},
   "outputs": [
    {
     "data": {
      "text/plain": [
       "<matplotlib.patches.Ellipse at 0x11d17e310>"
      ]
     },
     "execution_count": 25,
     "metadata": {},
     "output_type": "execute_result"
    },
    {
     "data": {
      "image/png": "[encoded data removed]",
      "text/plain": [
       "<Figure size 432x288 with 1 Axes>"
      ]
     },
     "metadata": {
      "needs_background": "light"
     },
     "output_type": "display_data"
    }
   ],
   "source": [
    "mean = np.mean(normed_x, 0)\n",
    "std_dev = np.std(normed_x, 0)\n",
    "\n",
    "ellipse = patches.Ellipse([mean[0],mean[1]], std_dev[0]*2,std_dev[1]*2, alpha = 0.25 )\n",
    "\n",
    "fig,graph = plt.subplots()\n",
    "\n",
    "graph.scatter(normed_x[:,0],normed_x[:,1])\n",
    "graph.scatter(mean[0],mean[1])\n",
    "graph.add_patch(ellipse)"
   ]
  }
 ],
 "metadata": {
  "kernelspec": {
   "display_name": "Python 3",
   "language": "python",
   "name": "python3"
  },
  "language_info": {
   "codemirror_mode": {
    "name": "ipython",
    "version": 3
   },
   "file_extension": ".py",
   "mimetype": "text/x-python",
   "name": "python",
   "nbconvert_exporter": "python",
   "pygments_lexer": "ipython3",
   "version": "3.7.6"
  }
 },
 "nbformat": 4,
 "nbformat_minor": 4
}
